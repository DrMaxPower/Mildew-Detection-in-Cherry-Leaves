{
 "cells": [
  {
   "cell_type": "code",
   "execution_count": 2,
   "metadata": {},
   "outputs": [],
   "source": [
    "import os\n",
    "import numpy\n",
    "import shutil\n",
    "import random\n",
    "import joblib"
   ]
  },
  {
   "cell_type": "markdown",
   "metadata": {},
   "source": [
    "### Get Current Work Directory\n",
    "* as you can se getcwd show us in what folder we are working in. "
   ]
  },
  {
   "cell_type": "code",
   "execution_count": 3,
   "metadata": {},
   "outputs": [
    {
     "data": {
      "text/plain": [
       "'/workspace/Mildew-Detection-in-Cherry-Leaves/jupyter_notebooks'"
      ]
     },
     "execution_count": 3,
     "metadata": {},
     "output_type": "execute_result"
    }
   ],
   "source": [
    "current_dir = os.getcwd()\n",
    "current_dir"
   ]
  },
  {
   "cell_type": "code",
   "execution_count": 4,
   "metadata": {},
   "outputs": [
    {
     "data": {
      "text/plain": [
       "'/workspace/Mildew-Detection-in-Cherry-Leaves'"
      ]
     },
     "execution_count": 4,
     "metadata": {},
     "output_type": "execute_result"
    }
   ],
   "source": [
    "os.chdir('/workspace/Mildew-Detection-in-Cherry-Leaves')\n",
    "current_dir = os.getcwd()\n",
    "current_dir"
   ]
  },
  {
   "cell_type": "markdown",
   "metadata": {},
   "source": [
    "### Install Kaggle"
   ]
  },
  {
   "cell_type": "code",
   "execution_count": 5,
   "metadata": {},
   "outputs": [
    {
     "name": "stdout",
     "output_type": "stream",
     "text": [
      "Collecting kaggle\n",
      "  Downloading kaggle-1.5.12.tar.gz (58 kB)\n",
      "\u001b[2K     \u001b[90m━━━━━━━━━━━━━━━━━━━━━━━━━━━━━━━━━━━━━━━━\u001b[0m \u001b[32m59.0/59.0 KB\u001b[0m \u001b[31m5.5 MB/s\u001b[0m eta \u001b[36m0:00:00\u001b[0m\n",
      "\u001b[?25h  Preparing metadata (setup.py) ... \u001b[?25ldone\n",
      "\u001b[?25hRequirement already satisfied: six>=1.10 in /home/gitpod/.pyenv/versions/3.8.13/lib/python3.8/site-packages (from kaggle) (1.15.0)\n",
      "Requirement already satisfied: certifi in /home/gitpod/.pyenv/versions/3.8.13/lib/python3.8/site-packages (from kaggle) (2021.10.8)\n",
      "Requirement already satisfied: python-dateutil in /home/gitpod/.pyenv/versions/3.8.13/lib/python3.8/site-packages (from kaggle) (2.8.2)\n",
      "Requirement already satisfied: requests in /home/gitpod/.pyenv/versions/3.8.13/lib/python3.8/site-packages (from kaggle) (2.27.1)\n",
      "Collecting tqdm\n",
      "  Downloading tqdm-4.64.0-py2.py3-none-any.whl (78 kB)\n",
      "\u001b[2K     \u001b[90m━━━━━━━━━━━━━━━━━━━━━━━━━━━━━━━━━━━━━━━━\u001b[0m \u001b[32m78.4/78.4 KB\u001b[0m \u001b[31m22.0 MB/s\u001b[0m eta \u001b[36m0:00:00\u001b[0m\n",
      "\u001b[?25hCollecting python-slugify\n",
      "  Downloading python_slugify-6.1.2-py2.py3-none-any.whl (9.4 kB)\n",
      "Requirement already satisfied: urllib3 in /home/gitpod/.pyenv/versions/3.8.13/lib/python3.8/site-packages (from kaggle) (1.26.9)\n",
      "Collecting text-unidecode>=1.3\n",
      "  Downloading text_unidecode-1.3-py2.py3-none-any.whl (78 kB)\n",
      "\u001b[2K     \u001b[90m━━━━━━━━━━━━━━━━━━━━━━━━━━━━━━━━━━━━━━━━\u001b[0m \u001b[32m78.2/78.2 KB\u001b[0m \u001b[31m35.4 MB/s\u001b[0m eta \u001b[36m0:00:00\u001b[0m\n",
      "\u001b[?25hRequirement already satisfied: charset-normalizer~=2.0.0 in /home/gitpod/.pyenv/versions/3.8.13/lib/python3.8/site-packages (from requests->kaggle) (2.0.12)\n",
      "Requirement already satisfied: idna<4,>=2.5 in /home/gitpod/.pyenv/versions/3.8.13/lib/python3.8/site-packages (from requests->kaggle) (3.3)\n",
      "Building wheels for collected packages: kaggle\n",
      "  Building wheel for kaggle (setup.py) ... \u001b[?25ldone\n",
      "\u001b[?25h  Created wheel for kaggle: filename=kaggle-1.5.12-py3-none-any.whl size=73049 sha256=373a728de9098d5bd60774aff36544a17642bf2581ffdae0b28011d42de3007c\n",
      "  Stored in directory: /home/gitpod/.cache/pip/wheels/29/da/11/144cc25aebdaeb4931b231e25fd34b394e6a5725cbb2f50106\n",
      "Successfully built kaggle\n",
      "Installing collected packages: text-unidecode, tqdm, python-slugify, kaggle\n",
      "Successfully installed kaggle-1.5.12 python-slugify-6.1.2 text-unidecode-1.3 tqdm-4.64.0\n"
     ]
    }
   ],
   "source": [
    "!pip install kaggle"
   ]
  },
  {
   "cell_type": "markdown",
   "metadata": {},
   "source": [
    "### kaggle config"
   ]
  },
  {
   "cell_type": "code",
   "execution_count": 6,
   "metadata": {},
   "outputs": [],
   "source": [
    "os.environ['KAGGLE_CONFIG_DIR'] = os.getcwd()\n",
    "!chmod 600 kaggle.json"
   ]
  },
  {
   "cell_type": "markdown",
   "metadata": {},
   "source": [
    "**Notis** that input has a folder \"cherry_leaves_dataset\" that later contains a folder \"cherry-leaves\". <br>\n",
    "This usefull if we have more datasets to do the same operation on. Example \"apple_leaves_dataset\"."
   ]
  },
  {
   "cell_type": "code",
   "execution_count": 7,
   "metadata": {},
   "outputs": [
    {
     "name": "stdout",
     "output_type": "stream",
     "text": [
      "cherry-leaves.zip: Skipping, found more recently modified local copy (use --force to force download)\n"
     ]
    }
   ],
   "source": [
    "KaggleDatasetPath = \"codeinstitute/cherry-leaves\"\n",
    "DestinationFolder = \"inputs/cherry_leaves_dataset\"   \n",
    "! kaggle datasets download -d {KaggleDatasetPath} -p {DestinationFolder}"
   ]
  },
  {
   "cell_type": "code",
   "execution_count": 8,
   "metadata": {},
   "outputs": [
    {
     "name": "stdout",
     "output_type": "stream",
     "text": [
      "Archive:  inputs/cherry_leaves_dataset/cherry-leaves.zip\n",
      "replace inputs/cherry_leaves_dataset/cherry-leaves/healthy/0008f3d3-2f85-4973-be9a-1b520b8b59fc___JR_HL 4092.JPG? [y]es, [n]o, [A]ll, [N]one, [r]ename: ^C\n"
     ]
    }
   ],
   "source": [
    "! unzip {DestinationFolder}/*.zip -d {DestinationFolder} \\\n",
    "    && rm {DestinationFolder}/*.zip"
   ]
  },
  {
   "cell_type": "markdown",
   "metadata": {},
   "source": [
    "### Function **split_train_validation_test_images** \n",
    "This funktion takes four arguments: \n",
    "* my_data_dir\n",
    "* train_set_ratio\n",
    "* validation_set_ratio\n",
    "* test_set_ratio\n",
    "\n",
    "my_data_dir = 'inputs/cherry_leaves_dataset/cherry-leaves'  \n",
    "but in this stage it is an intermediate directory.\n"
   ]
  },
  {
   "cell_type": "code",
   "execution_count": null,
   "metadata": {},
   "outputs": [],
   "source": [
    "def image_slicer(data_dir, train_ratio=.7, val_ratio=.1, test_ratio=.2):\n",
    "    if x_train + val_ratio + train_ratio !=1.0:\n",
    "        print(\"sum of ratio needs to be 1 or 100%\")\n",
    "        return\n",
    "    \n",
    "    labels = os.listdir(data_dir)\n",
    "    if 'test' in labels:\n",
    "        pass\n",
    "    else:\n",
    "        for folder in ['train', 'validation', 'test']:\n",
    "            for label in labels:\n",
    "                os.makedirs(name=data_dir)\n",
    "    "
   ]
  },
  {
   "cell_type": "code",
   "execution_count": 1,
   "metadata": {},
   "outputs": [],
   "source": [
    "\n",
    "def split_train_validation_test_images(my_data_dir, train_set_ratio, validation_set_ratio, test_set_ratio):\n",
    "  \n",
    "  if train_set_ratio + validation_set_ratio + test_set_ratio != 1.0:\n",
    "    print(\"train_set_ratio + validation_set_ratio + test_set_ratio should sum 1.0\")\n",
    "    return\n",
    "\n",
    "  # gets classes labels\n",
    "  labels = os.listdir(my_data_dir) \n",
    "  # listdir return a list containing the names of the files in the directory, (folder names).\n",
    "  if 'test' in labels:\n",
    "    pass\n",
    "  else: \n",
    "    # create train, test folders with classess labels sub-folder\n",
    "    for folder in ['train','validation','test']:\n",
    "      for label in labels:\n",
    "        os.makedirs(name=f\"{my_data_dir}/{folder}/{label}\")\n",
    "\n",
    "    for label in labels:\n",
    "\n",
    "      files = os.listdir(f\"{my_data_dir}/{label}\")\n",
    "      # Shuffle will alter data in-place.\n",
    "      random.shuffle(files)\n",
    "\n",
    "      train_set_files_qty = int(len(files) * train_set_ratio)\n",
    "      validation_set_files_qty = int(len(files) * validation_set_ratio)\n",
    "\n",
    "      count = 1\n",
    "      for file_name in files:\n",
    "        if count <= train_set_files_qty:\n",
    "          # move given file to train set\n",
    "          shutil.move(f\"{my_data_dir}/{label}/{file_name}\",\n",
    "                      f\"{my_data_dir}/train/{label}/{file_name}\")\n",
    "          \n",
    "\n",
    "        elif count <= (train_set_files_qty + validation_set_files_qty ):\n",
    "          # move given file to validation set\n",
    "          shutil.move(f\"{my_data_dir}/{label}/{file_name}\",\n",
    "                      f\"{my_data_dir}/validation/{label}/{file_name})\n",
    "\n",
    "        else:\n",
    "          # move given file to test set\n",
    "          shutil.move(f\"{my_data_dir}/{label}/{file_name}\",\n",
    "                      f\"{my_data_dir}/test/{label}/{file_name}\")\n",
    "          \n",
    "        count += 1\n",
    "\n",
    "      os.rmdir(f\"{my_data_dir}/{label}\")"
   ]
  },
  {
   "cell_type": "code",
   "execution_count": 14,
   "metadata": {},
   "outputs": [],
   "source": [
    "split_train_validation_test_images(my_data_dir = f\"inputs/cherry_leaves_dataset/cherry-leaves\",\n",
    "                        train_set_ratio = 0.7,\n",
    "                        validation_set_ratio=0.1,\n",
    "                        test_set_ratio=0.2\n",
    "                        )"
   ]
  }
 ],
 "metadata": {
  "interpreter": {
   "hash": "110cc1dee26208153f2972f08a2ad52b6a56238dc66d48e87fb757ef2996db56"
  },
  "kernelspec": {
   "display_name": "Python 3.8.13 64-bit ('3.8.13')",
   "language": "python",
   "name": "python3"
  },
  "language_info": {
   "codemirror_mode": {
    "name": "ipython",
    "version": 3
   },
   "file_extension": ".py",
   "mimetype": "text/x-python",
   "name": "python",
   "nbconvert_exporter": "python",
   "pygments_lexer": "ipython3",
   "version": "3.8.13"
  },
  "orig_nbformat": 4
 },
 "nbformat": 4,
 "nbformat_minor": 2
}
